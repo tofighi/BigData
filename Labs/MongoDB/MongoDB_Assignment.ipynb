{
  "cells": [
    {
      "cell_type": "markdown",
      "metadata": {
        "id": "view-in-github",
        "colab_type": "text"
      },
      "source": [
        "<a href=\"https://colab.research.google.com/github/tofighi/BigData/blob/main/Labs/MongoDB/MongoDB_Assignment.ipynb\" target=\"_parent\"><img src=\"https://colab.research.google.com/assets/colab-badge.svg\" alt=\"Open In Colab\"/></a>"
      ]
    },
    {
      "cell_type": "markdown",
      "metadata": {
        "id": "QxDhTyclvzuz"
      },
      "source": [
        "## MongoDB Assignment"
      ]
    },
    {
      "cell_type": "markdown",
      "metadata": {
        "id": "JjUBX185vzu0"
      },
      "source": [
        "This assignment is based on content discussed in Module 2: Introduction to MongoDB"
      ]
    },
    {
      "cell_type": "markdown",
      "metadata": {
        "id": "Y5sVEZYQvzu1"
      },
      "source": [
        "## Learning outcomes "
      ]
    },
    {
      "cell_type": "markdown",
      "metadata": {
        "id": "RNAMrxvpvzu1"
      },
      "source": [
        "The purpose of this assignment is for learners to be able to:\n",
        "- Familarize with JSON document syntax\n",
        "- Understand basic MongoDB CRUD operations\n",
        "- Understand MongoDB data pipelines to run aggregate queries"
      ]
    },
    {
      "cell_type": "markdown",
      "metadata": {
        "id": "DB6Mhqwrvzu2"
      },
      "source": [
        "In this assignment, you will make use of the sample data provided in Module 2.  \n",
        "\n",
        "This dataset has 3 collections: Employee, Workplace and Address.  You will import this data into your local MongoDB database.\n",
        "\n",
        "Required imports for this project are given below."
      ]
    },
    {
      "cell_type": "code",
      "source": [
        "!pip -q install \"pymongo[srv]\""
      ],
      "metadata": {
        "id": "2GB5WmMsEDzR"
      },
      "execution_count": null,
      "outputs": []
    },
    {
      "cell_type": "code",
      "execution_count": null,
      "metadata": {
        "colab": {
          "base_uri": "https://localhost:8080/"
        },
        "id": "Gqxn8n27vzu3",
        "outputId": "569d3cd9-7c52-4cdc-f950-8e208ac27d1b"
      },
      "outputs": [
        {
          "output_type": "stream",
          "name": "stdout",
          "text": [
            "Mongo version 4.0.1\n"
          ]
        }
      ],
      "source": [
        "#required imports\n",
        "import os\n",
        "import json\n",
        "import datetime\n",
        "import pymongo\n",
        "import pprint\n",
        "import pandas as pd\n",
        "import numpy as np\n",
        "from pymongo import MongoClient\n",
        "print('Mongo version', pymongo.__version__)"
      ]
    },
    {
      "cell_type": "markdown",
      "metadata": {
        "id": "TeBZEImlnjsY"
      },
      "source": [
        "We first need to connect to MongoDB Atlas Cluster using the connection string. We will use the MongoClient to connect to a local 'test' database that is running on port 27017 (this is the default port)."
      ]
    },
    {
      "cell_type": "code",
      "source": [
        "# Find connection string on MongoDB Atlas and \n",
        "client = pymongo.MongoClient(\"\") # Replace the connection string here between \"\"\n",
        "db = client.assignment1\n",
        "db"
      ],
      "metadata": {
        "colab": {
          "base_uri": "https://localhost:8080/"
        },
        "id": "158xJ-QcAXaA",
        "outputId": "14884bb8-3f3e-4ed2-e696-e49789bb955b"
      },
      "execution_count": null,
      "outputs": [
        {
          "output_type": "execute_result",
          "data": {
            "text/plain": [
              "Database(MongoClient(host=['cluster0-shard-00-01.1swwm.mongodb.net:27017', 'cluster0-shard-00-00.1swwm.mongodb.net:27017', 'cluster0-shard-00-02.1swwm.mongodb.net:27017'], document_class=dict, tz_aware=False, connect=True, retrywrites=True, w='majority', authsource='admin', replicaset='atlas-u4t2qn-shard-0', tls=True), 'assignment1')"
            ]
          },
          "metadata": {},
          "execution_count": 20
        }
      ]
    },
    {
      "cell_type": "markdown",
      "metadata": {
        "id": "2WW6r96Tvzu7"
      },
      "source": [
        "After installing necessary modules proceed to import the data into your database. The following lines will download the files into your workspace."
      ]
    },
    {
      "cell_type": "code",
      "source": [
        "# Download JSON datasets to workplace\n",
        "!wget -q https://raw.githubusercontent.com/tofighi/BigData/main/datasets/work/Address.json\n",
        "!wget -q https://raw.githubusercontent.com/tofighi/BigData/main/datasets/work/Employee.json\n",
        "!wget -q https://raw.githubusercontent.com/tofighi/BigData/main/datasets/work/Workplace.json"
      ],
      "metadata": {
        "id": "qNkBjTqPBhyZ"
      },
      "execution_count": null,
      "outputs": []
    },
    {
      "cell_type": "code",
      "execution_count": null,
      "metadata": {
        "id": "5VDnAuj6vzu7"
      },
      "outputs": [],
      "source": [
        "# Let's delete any existing collections in our database\n",
        "db.workplace.drop()\n",
        "db.address.drop()\n",
        "db.employee.drop()\n",
        "\n",
        "# Import our files into our three collections\n",
        "with open('Employee.json') as f:\n",
        "    db.employee.insert_many(json.load(f))\n",
        "with open('Workplace.json') as f:\n",
        "    db.workplace.insert_many(json.load(f))\n",
        "with open('Address.json') as f:\n",
        "    db.address.insert_many(json.load(f))"
      ]
    },
    {
      "cell_type": "markdown",
      "metadata": {
        "id": "3lL-abBuvzu9"
      },
      "source": [
        "#### Question 1 (10 Marks)\n",
        "\n",
        "The address collection contains employee from different ages and interests.  Perform a simple query to list all employees that are less than or equal to 50 and like Cooking.\n",
        "\n",
        "__NOTE:__ the following shows the structure of an Employee document that will help you construct the query."
      ]
    },
    {
      "cell_type": "code",
      "execution_count": null,
      "metadata": {
        "colab": {
          "base_uri": "https://localhost:8080/"
        },
        "id": "gqB8V6Xbnjsf",
        "outputId": "8b38469f-4415-4c98-e197-60f917394e49"
      },
      "outputs": [
        {
          "output_type": "stream",
          "name": "stdout",
          "text": [
            "{'_id': '9f39da36-82cc-4353-ab90-d616105fa7c1',\n",
            " 'address_id': 'b6c0b50a-d0e3-43bf-a2a4-8d4674c2a7e8',\n",
            " 'age': 40,\n",
            " 'email': 'ih@ri.ro',\n",
            " 'firstname': 'Emilie',\n",
            " 'interests': ['Bowling', 'Cooking', 'Golf', 'Swimming'],\n",
            " 'lastname': 'Woods',\n",
            " 'workplace_id': 'a32bf18d-e0e5-48f2-a851-aa49c80f9460'}\n"
          ]
        }
      ],
      "source": [
        "pprint.pprint(client.assignment1.employee.find_one())"
      ]
    },
    {
      "cell_type": "code",
      "execution_count": null,
      "metadata": {
        "id": "Jldgdr4e95qr"
      },
      "outputs": [],
      "source": [
        "# YOUR CODE HERE"
      ]
    },
    {
      "cell_type": "markdown",
      "metadata": {
        "id": "HcLWsbNmvzvD"
      },
      "source": [
        "#### Question 2  (10 Marks)\n",
        "\n",
        "Insert a new Employee with the following properties:\n",
        "\n",
        "* First Name: Jake \n",
        "* Last Name: Sample\n",
        "* Email: jakesample@email.com\n",
        "* Age: 26\n",
        "* Interest: Biking, Hiking\n",
        "\n",
        "Also, this employee works for 'Union Planters Corp' and lives at '573 Wojhas Square, Victoria'.\n",
        "Verify that the insert succeeded and display the generated employees _id attribute.\n",
        "\n",
        "__HINT__ An Employee document references a Workplace and Address document"
      ]
    },
    {
      "cell_type": "code",
      "execution_count": null,
      "metadata": {
        "id": "At7EoGtLvzvE"
      },
      "outputs": [],
      "source": [
        "# YOUR CODE HERE"
      ]
    },
    {
      "cell_type": "markdown",
      "metadata": {
        "id": "Bq6r7ffrvzvI"
      },
      "source": [
        "#### Question 3 (10 Marks)\n",
        "\n",
        "Delete all employees that work for 'Great Plains Energy Inc.' and are greater than 46 years old and likes 'Tennis'.  Once you delete the employees verify the number of employees deleted."
      ]
    },
    {
      "cell_type": "code",
      "execution_count": null,
      "metadata": {
        "id": "XtzUs6YDvzvJ"
      },
      "outputs": [],
      "source": [
        "# YOUR CODE HERE"
      ]
    },
    {
      "cell_type": "markdown",
      "metadata": {
        "id": "-yi0OsI0vzvQ"
      },
      "source": [
        "#### Question 4 (12 Marks)\n",
        "Add a new field called 'industry' to all employees that work for 'Health Net Inc.'.\n",
        "\n",
        "__HINT__ All a new field to a document is like updating the document"
      ]
    },
    {
      "cell_type": "code",
      "source": [
        "# YOUR CODE HERE"
      ],
      "metadata": {
        "id": "xB7tYsuPcP8Z"
      },
      "execution_count": null,
      "outputs": []
    },
    {
      "cell_type": "markdown",
      "metadata": {
        "id": "AlvB2ficvzvW"
      },
      "source": [
        "#### Question 5 (10 Marks)\n",
        "\n",
        "Create an aggregate query to count the number of employees for each company and sort the output from largest employee count to lowest employee count.\n",
        "\n",
        "__NOTE__ you will use a pipeline to achieve the computed result.  You should produce a result similar to the following table (the following table contains fake data)\n",
        "<table>\n",
        "    <tr><th></th><th>_id</th><th>count</th></tr>\n",
        "    <tr><td>0</td><td>[Equity Residential Properties Trust]</td><td>19</td></tr>\n",
        "    <tr><td>...</td><td>...</td><td>...</td></tr>\n",
        "    <tr><td>7</td><td>[Bell Microproducts Inc.]</td><td>6</td></tr>\n",
        "    <tr><td>8</td><td>[Kemet Corp.]</td><td>1</td></tr>\n",
        "</table>\n",
        "\n",
        "__HINT__ you should make use of the \\\\$lookup, \\\\$group and \\\\$sort pipeline operations"
      ]
    },
    {
      "cell_type": "code",
      "source": [
        "query_result = # YOUR CODE HERE\n",
        "pd.DataFrame(list(query_result))"
      ],
      "metadata": {
        "id": "lHk9ayC9clfQ"
      },
      "execution_count": null,
      "outputs": []
    }
  ],
  "metadata": {
    "colab": {
      "provenance": [],
      "include_colab_link": true
    },
    "kernelspec": {
      "display_name": "Python 3",
      "language": "python",
      "name": "python3"
    },
    "language_info": {
      "codemirror_mode": {
        "name": "ipython",
        "version": 3
      },
      "file_extension": ".py",
      "mimetype": "text/x-python",
      "name": "python",
      "nbconvert_exporter": "python",
      "pygments_lexer": "ipython3",
      "version": "3.7.6"
    }
  },
  "nbformat": 4,
  "nbformat_minor": 0
}